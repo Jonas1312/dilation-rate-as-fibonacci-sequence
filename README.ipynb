{
 "cells": [
  {
   "cell_type": "markdown",
   "id": "b5ce9309-dc4f-4c20-a784-630b33999258",
   "metadata": {
    "tags": []
   },
   "source": [
    "# Dilation Rate Gridding Problem and How to Solve It With the Fibonacci Sequence"
   ]
  },
  {
   "cell_type": "markdown",
   "id": "f9102a0b-4a54-4ef6-8ecb-c86ca0d13987",
   "metadata": {},
   "source": [
    "## Introduction"
   ]
  },
  {
   "cell_type": "markdown",
   "id": "3b1e235b-d870-4515-98ea-12bf20df0fab",
   "metadata": {},
   "source": [
    "In convolutional neural networks, it is assumed that the receptive field must cover a sufficiently large area of the input image, so that the last layers of the network can have a global overview of the elements present in it."
   ]
  },
  {
   "cell_type": "markdown",
   "id": "55263b74-5d2d-46e8-aa18-5a0973611434",
   "metadata": {},
   "source": [
    "On the figure below, we see how stacking two 3x3 convolutions will result in a 5x5 receptive field with 18 parameters (3x3 + 3x3 = 18):"
   ]
  },
  {
   "cell_type": "markdown",
   "id": "dde0078f-c54a-4021-a1dc-2aa0d218c9b1",
   "metadata": {},
   "source": [
    "[![](receptive-field.png)](https://towardsdatascience.com/a-guide-for-building-convolutional-neural-networks-e4eefd17f4fd)"
   ]
  },
  {
   "cell_type": "markdown",
   "id": "5caa9dc5-d160-49b1-ab62-e40d66676076",
   "metadata": {},
   "source": [
    "There's usually 3 common ways to increase the receptive field:\n",
    "1) more layers\n",
    "2) pooling with strides\n",
    "3) dilated convolutions."
   ]
  },
  {
   "cell_type": "markdown",
   "id": "39040a63-c476-4f42-97c2-cb9283312c3b",
   "metadata": {},
   "source": [
    "The most used technique is to add a pooling layer. It's indeed very effective at increasing the receptive field without any added computational cost.\n",
    "\n",
    "However, pooling can cause several issues such as [breaking the Shannon-Nyquist sampling theorem](https://richzhang.github.io/antialiased-cnns/). It also, by definition, provokes a loss of data which can be undesirable when we need to preserve the original image resolution."
   ]
  },
  {
   "cell_type": "markdown",
   "id": "f0f248a8-4a01-4f89-b5e7-e12fd2a3bc73",
   "metadata": {},
   "source": [
    "The other technique uses dilated convolutions:"
   ]
  },
  {
   "cell_type": "markdown",
   "id": "b68b1c9a-e6e5-488d-a16f-eae3016e6d44",
   "metadata": {},
   "source": [
    "![](dilated-conv.png)"
   ]
  },
  {
   "cell_type": "markdown",
   "id": "93fb2429-6cf7-4f22-a7e6-34b0a0d8b4fe",
   "metadata": {},
   "source": [
    "Dilated convolutions preserve the number of parameters and the resolution, while effectively increasing the receptive field.\n",
    "\n",
    "However, they also come with an interesting issue: [**the gridding problem**](https://arxiv.org/abs/1702.08502)."
   ]
  },
  {
   "cell_type": "markdown",
   "id": "4e724947-3ab2-4e5e-9d62-55d25b8fc0d7",
   "metadata": {},
   "source": [
    "## Problematic"
   ]
  },
  {
   "cell_type": "markdown",
   "id": "f747f684-f408-46ba-a35d-d723eaebcf3f",
   "metadata": {},
   "source": [
    "Let's do some visualizations using Python and PyTorch to see how the gridding problem appears."
   ]
  },
  {
   "cell_type": "markdown",
   "id": "d82b4868-12f3-4628-bf96-28595533935e",
   "metadata": {},
   "source": [
    "Some imports:"
   ]
  },
  {
   "cell_type": "code",
   "execution_count": 1,
   "id": "0b0f8dd6-595e-4ec0-a917-9a0b6d1f3b00",
   "metadata": {},
   "outputs": [],
   "source": [
    "%matplotlib inline\n",
    "import io\n",
    "\n",
    "import imageio\n",
    "import matplotlib.pyplot as plt\n",
    "import numpy as np\n",
    "import PIL\n",
    "import torch"
   ]
  },
  {
   "cell_type": "markdown",
   "id": "d49836db-6e79-4d85-9e3e-968e4d92335d",
   "metadata": {},
   "source": [
    "Settings for plotting:"
   ]
  },
  {
   "cell_type": "code",
   "execution_count": 2,
   "id": "9884634d-f4a3-469a-981f-aa43cac67d81",
   "metadata": {},
   "outputs": [],
   "source": [
    "plt.rcParams[\"figure.facecolor\"] = (1.0, 1.0, 1.0, 1)\n",
    "plt.rcParams[\"figure.figsize\"] = [3, 3]\n",
    "plt.rcParams[\"figure.dpi\"] = 150\n",
    "plt.rcParams[\"legend.fontsize\"] = \"large\"\n",
    "plt.rcParams[\"axes.titlesize\"] = \"large\"\n",
    "plt.rcParams[\"axes.labelsize\"] = \"large\"\n",
    "plt.rcParams[\"xtick.labelsize\"] = \"small\"\n",
    "plt.rcParams[\"ytick.labelsize\"] = \"small\""
   ]
  },
  {
   "cell_type": "markdown",
   "id": "c3d492fe-d470-4e96-8b25-75acb4f0e689",
   "metadata": {},
   "source": [
    "Below, we create a function that generates a neural network with $N$ convolution layers with respective dilation rates defined as a parameter:"
   ]
  },
  {
   "cell_type": "code",
   "execution_count": 3,
   "id": "01ababbc-954f-4aee-9f0c-de872fe19a58",
   "metadata": {},
   "outputs": [],
   "source": [
    "def generate_network(dilation_rates: list):\n",
    "    layers = []\n",
    "    for dilation in dilation_rates:\n",
    "        conv = torch.nn.Conv2d(\n",
    "            in_channels=1,\n",
    "            out_channels=1,\n",
    "            kernel_size=3,\n",
    "            stride=1,\n",
    "            padding=\"same\",\n",
    "            dilation=dilation,\n",
    "            bias=False,\n",
    "            padding_mode=\"zeros\",\n",
    "        )\n",
    "        conv.weight.data.fill_(1)\n",
    "        layers.append(conv)\n",
    "    network = torch.nn.Sequential(*layers)\n",
    "    return network"
   ]
  },
  {
   "cell_type": "markdown",
   "id": "d1ab34cd-9ecd-46bf-8d32-eaa1645f3b98",
   "metadata": {},
   "source": [
    "We also need another function that:\n",
    "1) initializes the network\n",
    "2) creates the input image\n",
    "3) computes the output\n",
    "4) returns the gradient of the output center pixel with respect to the input image."
   ]
  },
  {
   "cell_type": "code",
   "execution_count": 4,
   "id": "8be0d18e-37db-429a-9505-d5ae91f72a99",
   "metadata": {},
   "outputs": [],
   "source": [
    "def inference_and_return_grad(pixels: int, dilation_rates: list):\n",
    "    net = generate_network(dilation_rates)\n",
    "\n",
    "    input_image = torch.zeros((1, 1, pixels, pixels))\n",
    "    input_image.requires_grad_(True)\n",
    "\n",
    "    output = net(input_image)\n",
    "\n",
    "    # we return the gradient of the output pixel center\n",
    "    # with respect to the input image\n",
    "    center_pixel = output[0, 0, pixels // 2, pixels // 2]\n",
    "    center_pixel.backward()\n",
    "    return input_image.grad"
   ]
  },
  {
   "cell_type": "markdown",
   "id": "0d5e8626-07e8-40a2-8022-2e859cad0c6a",
   "metadata": {},
   "source": [
    "We define the input as a 21x21 pixels image:"
   ]
  },
  {
   "cell_type": "code",
   "execution_count": 5,
   "id": "516b532d-5a64-4e39-95c2-fe88b2f046fe",
   "metadata": {},
   "outputs": [],
   "source": [
    "pixels = 21"
   ]
  },
  {
   "cell_type": "markdown",
   "id": "b2e9ae00-01a0-4781-9479-2f10bbb61d10",
   "metadata": {},
   "source": [
    "We create a function to help with plotting the gradient.\n",
    "\n",
    "For all visualizations below:\n",
    "- white pixels have no impact on the output center pixel\n",
    "- blue pixels have an impact on the output center pixel, the darker the blue, the greater the impact."
   ]
  },
  {
   "cell_type": "code",
   "execution_count": 6,
   "id": "86eff179-274e-47bc-a7b9-b96578e450e4",
   "metadata": {},
   "outputs": [],
   "source": [
    "def plot_grad(grad, title, show=True):\n",
    "    grad = grad[0, 0]\n",
    "    ax = plt.imshow(grad, cmap=\"Blues\", interpolation=\"none\")\n",
    "    plt.title(\"Dilation rates: \" + title)\n",
    "    if show:\n",
    "        plt.show()\n",
    "    else:\n",
    "        return ax"
   ]
  },
  {
   "cell_type": "markdown",
   "id": "84b762b6-6c94-4ba5-8ba6-2f20a015bffc",
   "metadata": {},
   "source": [
    "We first with plotting the gradient of the output center pixel w.r.t. the input for a 3-layers convolutional network without dilation ($dilation=1$):"
   ]
  },
  {
   "cell_type": "code",
   "execution_count": 7,
   "id": "0b138936-da3f-4256-91f3-ccb70ae67073",
   "metadata": {},
   "outputs": [
    {
     "data": {
      "image/png": "[encoded data removed]",
      "text/plain": [
       "<Figure size 450x450 with 1 Axes>"
      ]
     },
     "metadata": {},
     "output_type": "display_data"
    }
   ],
   "source": [
    "plot_grad(\n",
    "    inference_and_return_grad(pixels, dilation_rates=(1, 1, 1)), title=\"(1, 1, 1)\"\n",
    ");"
   ]
  },
  {
   "cell_type": "markdown",
   "id": "c6a26905-b086-4ed9-b699-2cd331c870f6",
   "metadata": {},
   "source": [
    "Looks good to me, it's a classic 3-layers CNN with 3x3 kernels..."
   ]
  },
  {
   "cell_type": "markdown",
   "id": "fd047b7b-9d77-4e3b-b912-69371e15a245",
   "metadata": {},
   "source": [
    "Now, let's try to reproduce the gridding problem with a 4-layers CNN and a dilation rate of 2:"
   ]
  },
  {
   "cell_type": "code",
   "execution_count": 8,
   "id": "3d672c70-c384-4b0e-b33a-ab6d342222b1",
   "metadata": {},
   "outputs": [
    {
     "data": {
      "image/png": "[encoded data removed]",
      "text/plain": [
       "<Figure size 450x450 with 1 Axes>"
      ]
     },
     "metadata": {},
     "output_type": "display_data"
    }
   ],
   "source": [
    "plot_grad(\n",
    "    inference_and_return_grad(pixels, dilation_rates=(2, 2, 2, 2)), title=\"(2, 2, 2, 2)\"\n",
    ");"
   ]
  },
  {
   "cell_type": "markdown",
   "id": "c319fa08-a4d1-436c-9bac-9afbfc6592fe",
   "metadata": {},
   "source": [
    "We can see that the output center pixel has a big receptive field encompassing the whole image, which is the purpose of dilated convolutions.\n",
    "\n",
    "However, we also clearly notice a uniform grid of pixels not contributing to the output center pixel, which is the unwanted gridding problem."
   ]
  },
  {
   "cell_type": "markdown",
   "id": "027cde2b-6fe9-431d-b28f-369ee628e411",
   "metadata": {},
   "source": [
    "In some neural network architectures, we sometimes see successive dilation rates growing exponentially:"
   ]
  },
  {
   "cell_type": "code",
   "execution_count": 9,
   "id": "186e0cad-4e77-48f9-8560-0ce791fcc121",
   "metadata": {},
   "outputs": [
    {
     "data": {
      "image/png": "[encoded data removed]",
      "text/plain": [
       "<Figure size 450x450 with 1 Axes>"
      ]
     },
     "metadata": {},
     "output_type": "display_data"
    }
   ],
   "source": [
    "plot_grad(\n",
    "    inference_and_return_grad(pixels, dilation_rates=(1, 2, 4)), title=\"(1, 2, 4)\"\n",
    ");"
   ]
  },
  {
   "cell_type": "markdown",
   "id": "ce43c8cf-7832-478d-a638-0e70a59f70bb",
   "metadata": {},
   "source": [
    "This shouldn't be used since we can see that some pixels contribute more to the output center pixel than the input center pixel itself."
   ]
  },
  {
   "cell_type": "markdown",
   "id": "a13a7906-6661-4fbc-b2b4-dfeed7672acd",
   "metadata": {},
   "source": [
    "## Solution"
   ]
  },
  {
   "cell_type": "markdown",
   "id": "00db3385-6348-46c2-9616-98f0156f1de3",
   "metadata": {},
   "source": [
    "The key to solve the gridding problem is to use the Fibonacci sequence.\n",
    "\n",
    "We can see that it effectivily solves the gridding issue:"
   ]
  },
  {
   "cell_type": "code",
   "execution_count": 10,
   "id": "14c4c736-0bb5-45f5-a0a6-206b2980ce13",
   "metadata": {},
   "outputs": [
    {
     "data": {
      "image/png": "[encoded data removed]",
      "text/plain": [
       "<Figure size 450x450 with 1 Axes>"
      ]
     },
     "metadata": {},
     "output_type": "display_data"
    }
   ],
   "source": [
    "plot_grad(\n",
    "    inference_and_return_grad(pixels, dilation_rates=(1, 1, 2, 3, 5)),\n",
    "    title=\"(1, 1, 2, 3, 5)\",\n",
    ");"
   ]
  },
  {
   "cell_type": "code",
   "execution_count": 11,
   "id": "a73d8f80-167f-482d-ac1f-47cebe71da06",
   "metadata": {},
   "outputs": [],
   "source": [
    "def fibonacci_sequence(seq_len: int):\n",
    "    fib_seq = [1, 1]\n",
    "    for _ in range(seq_len - 2):\n",
    "        fib_seq.append(fib_seq[-1] + fib_seq[-2])\n",
    "    return fib_seq"
   ]
  },
  {
   "cell_type": "markdown",
   "id": "c5053e40-78f2-4fe8-afa8-fe0c738d3ebe",
   "metadata": {},
   "source": [
    "We can visualize the impact on the gradient of adding several conv layers with dilation rates following the Fibonacci sequence:"
   ]
  },
  {
   "cell_type": "code",
   "execution_count": 12,
   "id": "e2945468-0605-4f74-b731-16626442b818",
   "metadata": {},
   "outputs": [],
   "source": [
    "%%capture\n",
    "writer = imageio.get_writer(\"anim.gif\", mode=\"I\", duration=1)\n",
    "\n",
    "nb_layers_end = 6\n",
    "fib_seq = fibonacci_sequence(nb_layers_end)\n",
    "\n",
    "for nb_layers in range(1, nb_layers_end + 1):\n",
    "    ax = plot_grad(\n",
    "        inference_and_return_grad(pixels, dilation_rates=fib_seq[:nb_layers]),\n",
    "        show=False,\n",
    "        title=str(fib_seq[:nb_layers]),\n",
    "    )\n",
    "    buf = io.BytesIO()\n",
    "    ax.figure.savefig(buf, dpi=150)\n",
    "    buf.seek(0)\n",
    "    pil_img = PIL.Image.open(buf)\n",
    "    writer.append_data(np.array(pil_img))"
   ]
  },
  {
   "cell_type": "markdown",
   "id": "c0135628-01a3-4c56-8842-fde2b3c9bff8",
   "metadata": {
    "tags": []
   },
   "source": [
    "![](anim.gif)"
   ]
  }
 ],
 "metadata": {
  "kernelspec": {
   "display_name": "Python 3 (ipykernel)",
   "language": "python",
   "name": "python3"
  },
  "language_info": {
   "codemirror_mode": {
    "name": "ipython",
    "version": 3
   },
   "file_extension": ".py",
   "mimetype": "text/x-python",
   "name": "python",
   "nbconvert_exporter": "python",
   "pygments_lexer": "ipython3",
   "version": "3.10.4"
  }
 },
 "nbformat": 4,
 "nbformat_minor": 5
}
